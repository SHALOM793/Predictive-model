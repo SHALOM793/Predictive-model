{
 "cells": [
  {
   "cell_type": "code",
   "execution_count": null,
   "metadata": {},
   "outputs": [
    {
     "ename": "",
     "evalue": "",
     "output_type": "error",
     "traceback": [
      "\u001b[1;31mRunning cells with 'c:\\Users\\SHALOM\\AppData\\Local\\Programs\\Python\\Python311\\python.exe' requires the ipykernel package.\n",
      "\u001b[1;31mRun the following command to install 'ipykernel' into the Python environment. \n",
      "\u001b[1;31mCommand: 'c:/Users/SHALOM/AppData/Local/Programs/Python/Python311/python.exe -m pip install ipykernel -U --user --force-reinstall'"
     ]
    }
   ],
   "source": [
    "import pandas as pd\n",
    "from sklearn.model_selection import train_test_split\n",
    "from sklearn.ensemble import RandomForestClassifier\n",
    "\n",
    "# Load the Facebook, Twitter, and Instagram data\n",
    "facebook_data = pd.read_csv('facebook_data.csv')\n",
    "twitter_data = pd.read_csv('twitter_data.csv')\n",
    "instagram_data = pd.read_csv('instagram_data.csv')\n",
    "\n",
    "# Merge the three datasets\n",
    "social_media_data = pd.merge(facebook_data, twitter_data, on='voter_id')\n",
    "social_media_data = pd.merge(social_media_data, instagram_data, on='voter_id')\n",
    "\n",
    "# Load the voter registration data\n",
    "voter_registration_data = pd.read_csv('voter_registration_data.csv')\n",
    "\n",
    "# Merge the social media data and voter registration data\n",
    "df = pd.merge(social_media_data, voter_registration_data, on='voter_id')\n",
    "\n",
    "# Create a feature matrix\n",
    "X = df[['facebook_likes', 'facebook_follows', 'facebook_posts', 'facebook_shares', 'facebook_sentiment', 'twitter_followers', 'twitter_following', 'twitter_tweets', 'twitter_retweets', 'twitter_sentiment', 'instagram_followers', 'instagram_following', 'instagram_posts', 'instagram_engagement', 'instagram_sentiment']]\n",
    "\n",
    "# Create a target vector\n",
    "y = df['candidate']\n",
    "\n",
    "# Split the data into training and test sets\n",
    "X_train, X_test, y_train, y_test = train_test_split(X, y, test_size=0.25)\n",
    "\n",
    "# Create a random forest classifier model\n",
    "model = RandomForestClassifier()\n",
    "\n",
    "# Fit the model to the training data\n",
    "model.fit(X_train, y_train)\n",
    "\n",
    "# Evaluate the model on the test data\n",
    "y_pred = model.predict(X_test)\n",
    "accuracy = model.score(X_test, y_test)\n",
    "\n",
    "# Print the accuracy\n",
    "print('Accuracy:', accuracy)\n",
    "\n",
    "# Make predictions for new voters\n",
    "new_voters = pd.DataFrame({'facebook_likes': [100, 200], 'facebook_follows': [50, 100], 'facebook_posts': [10, 20], 'facebook_shares': [5, 10], 'facebook_sentiment': [0.5, 0.8], 'twitter_followers': [1000, 2000], 'twitter_following': [500, 1000], 'twitter_tweets': [100, 200], 'twitter_retweets': [50, 100], 'twitter_sentiment': [0.5, 0.8], 'instagram_followers': [2000, 4000], 'instagram_following': [1000, 2000], 'instagram_posts': [200, 400], 'instagram_engagement': [0.5, 0.8], 'instagram_sentiment': [0.5, 0.8]})\n",
    "predictions = model.predict(new_voters)\n",
    "\n",
    "# Print the predictions\n",
    "print('Predictions:', predictions)\n"
   ]
  }
 ],
 "metadata": {
  "kernelspec": {
   "display_name": "Python 3",
   "language": "python",
   "name": "python3"
  },
  "language_info": {
   "name": "python",
   "version": "3.11.0"
  }
 },
 "nbformat": 4,
 "nbformat_minor": 2
}
